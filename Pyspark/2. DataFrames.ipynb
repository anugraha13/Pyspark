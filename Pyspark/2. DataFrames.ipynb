{
 "cells": [
  {
   "cell_type": "code",
   "execution_count": 3,
   "id": "4ca8bf9f",
   "metadata": {},
   "outputs": [],
   "source": [
    "import pyspark"
   ]
  },
  {
   "cell_type": "code",
   "execution_count": 4,
   "id": "b1d1335a",
   "metadata": {},
   "outputs": [],
   "source": [
    "from pyspark.sql import SparkSession"
   ]
  },
  {
   "cell_type": "code",
   "execution_count": 5,
   "id": "1733585d",
   "metadata": {},
   "outputs": [],
   "source": [
    "spark=SparkSession.builder.appName('Practise').getOrCreate()"
   ]
  },
  {
   "cell_type": "code",
   "execution_count": 20,
   "id": "5db46aec",
   "metadata": {},
   "outputs": [
    {
     "data": {
      "text/html": [
       "\n",
       "            <div>\n",
       "                <p><b>SparkSession - in-memory</b></p>\n",
       "                \n",
       "        <div>\n",
       "            <p><b>SparkContext</b></p>\n",
       "\n",
       "            <p><a href=\"http://INCHXL401E1B818.astrazeneca.net:4041\">Spark UI</a></p>\n",
       "\n",
       "            <dl>\n",
       "              <dt>Version</dt>\n",
       "                <dd><code>v3.2.1</code></dd>\n",
       "              <dt>Master</dt>\n",
       "                <dd><code>local[*]</code></dd>\n",
       "              <dt>AppName</dt>\n",
       "                <dd><code>Practise</code></dd>\n",
       "            </dl>\n",
       "        </div>\n",
       "        \n",
       "            </div>\n",
       "        "
      ],
      "text/plain": [
       "<pyspark.sql.session.SparkSession at 0x246540502b0>"
      ]
     },
     "execution_count": 20,
     "metadata": {},
     "output_type": "execute_result"
    }
   ],
   "source": [
    "spark"
   ]
  },
  {
   "cell_type": "markdown",
   "id": "350d7318",
   "metadata": {},
   "source": [
    "# Read the dataset"
   ]
  },
  {
   "cell_type": "code",
   "execution_count": 6,
   "id": "e6cb5656",
   "metadata": {},
   "outputs": [],
   "source": [
    "dfspark=spark.read.option('header','true').csv('income.csv')"
   ]
  },
  {
   "cell_type": "code",
   "execution_count": 7,
   "id": "c996589b",
   "metadata": {},
   "outputs": [
    {
     "name": "stdout",
     "output_type": "stream",
     "text": [
      "+--------+---+---------+\n",
      "|    Name|Age|Income($)|\n",
      "+--------+---+---------+\n",
      "|     Rob| 27|    70000|\n",
      "| Michael| 29|    90000|\n",
      "|   Mohan| 29|    61000|\n",
      "|  Ismail| 28|    60000|\n",
      "|    Kory| 42|   150000|\n",
      "|  Gautam| 39|   155000|\n",
      "|   David| 41|   160000|\n",
      "|  Andrea| 38|   162000|\n",
      "|    Brad| 36|   156000|\n",
      "|Angelina| 35|   130000|\n",
      "|  Donald| 37|   137000|\n",
      "|     Tom| 26|    45000|\n",
      "|  Arnold| 27|    48000|\n",
      "|   Jared| 28|    51000|\n",
      "|   Stark| 29|    49500|\n",
      "|  Ranbir| 32|    53000|\n",
      "|  Dipika| 40|    65000|\n",
      "|Priyanka| 41|    63000|\n",
      "|    Nick| 43|    64000|\n",
      "|    Alia| 39|    80000|\n",
      "+--------+---+---------+\n",
      "only showing top 20 rows\n",
      "\n"
     ]
    }
   ],
   "source": [
    "dfspark.show()"
   ]
  },
  {
   "cell_type": "code",
   "execution_count": 10,
   "id": "90d7c532",
   "metadata": {},
   "outputs": [
    {
     "name": "stdout",
     "output_type": "stream",
     "text": [
      "root\n",
      " |-- Name: string (nullable = true)\n",
      " |-- Age: string (nullable = true)\n",
      " |-- Income($): string (nullable = true)\n",
      "\n"
     ]
    }
   ],
   "source": [
    "dfspark.printSchema() # by default, consider the data types as string. 'inferSchema'"
   ]
  },
  {
   "cell_type": "code",
   "execution_count": 24,
   "id": "5b1e9f9b",
   "metadata": {},
   "outputs": [],
   "source": [
    "dfspark=spark.read.option('header','true').csv('income.csv',inferSchema=True)"
   ]
  },
  {
   "cell_type": "code",
   "execution_count": 9,
   "id": "b60ed4f9",
   "metadata": {},
   "outputs": [
    {
     "name": "stdout",
     "output_type": "stream",
     "text": [
      "root\n",
      " |-- Name: string (nullable = true)\n",
      " |-- Age: integer (nullable = true)\n",
      " |-- Income($): integer (nullable = true)\n",
      "\n"
     ]
    }
   ],
   "source": [
    "dfspark.printSchema()"
   ]
  },
  {
   "cell_type": "code",
   "execution_count": 10,
   "id": "077e3046",
   "metadata": {},
   "outputs": [],
   "source": [
    "df_pyspark1=spark.read.csv('income.csv',header=True, inferSchema=True)"
   ]
  },
  {
   "cell_type": "code",
   "execution_count": 11,
   "id": "3173745a",
   "metadata": {},
   "outputs": [
    {
     "name": "stdout",
     "output_type": "stream",
     "text": [
      "root\n",
      " |-- Name: string (nullable = true)\n",
      " |-- Age: integer (nullable = true)\n",
      " |-- Income($): integer (nullable = true)\n",
      "\n"
     ]
    }
   ],
   "source": [
    "df_pyspark1.printSchema()"
   ]
  },
  {
   "cell_type": "markdown",
   "id": "bea1afd9",
   "metadata": {},
   "source": [
    "# Selecting columns"
   ]
  },
  {
   "cell_type": "code",
   "execution_count": 14,
   "id": "3a13f535",
   "metadata": {},
   "outputs": [
    {
     "name": "stdout",
     "output_type": "stream",
     "text": [
      "+--------+---+---------+\n",
      "|    Name|Age|Income($)|\n",
      "+--------+---+---------+\n",
      "|     Rob| 27|    70000|\n",
      "| Michael| 29|    90000|\n",
      "|   Mohan| 29|    61000|\n",
      "|  Ismail| 28|    60000|\n",
      "|    Kory| 42|   150000|\n",
      "|  Gautam| 39|   155000|\n",
      "|   David| 41|   160000|\n",
      "|  Andrea| 38|   162000|\n",
      "|    Brad| 36|   156000|\n",
      "|Angelina| 35|   130000|\n",
      "|  Donald| 37|   137000|\n",
      "|     Tom| 26|    45000|\n",
      "|  Arnold| 27|    48000|\n",
      "|   Jared| 28|    51000|\n",
      "|   Stark| 29|    49500|\n",
      "|  Ranbir| 32|    53000|\n",
      "|  Dipika| 40|    65000|\n",
      "|Priyanka| 41|    63000|\n",
      "|    Nick| 43|    64000|\n",
      "|    Alia| 39|    80000|\n",
      "+--------+---+---------+\n",
      "only showing top 20 rows\n",
      "\n"
     ]
    }
   ],
   "source": [
    "dfspark.show()"
   ]
  },
  {
   "cell_type": "code",
   "execution_count": 15,
   "id": "c276bf0c",
   "metadata": {},
   "outputs": [
    {
     "name": "stdout",
     "output_type": "stream",
     "text": [
      "+--------+\n",
      "|    Name|\n",
      "+--------+\n",
      "|     Rob|\n",
      "| Michael|\n",
      "|   Mohan|\n",
      "|  Ismail|\n",
      "|    Kory|\n",
      "|  Gautam|\n",
      "|   David|\n",
      "|  Andrea|\n",
      "|    Brad|\n",
      "|Angelina|\n",
      "|  Donald|\n",
      "|     Tom|\n",
      "|  Arnold|\n",
      "|   Jared|\n",
      "|   Stark|\n",
      "|  Ranbir|\n",
      "|  Dipika|\n",
      "|Priyanka|\n",
      "|    Nick|\n",
      "|    Alia|\n",
      "+--------+\n",
      "only showing top 20 rows\n",
      "\n"
     ]
    }
   ],
   "source": [
    "dfspark.select('Name').show()"
   ]
  },
  {
   "cell_type": "code",
   "execution_count": 16,
   "id": "814084e0",
   "metadata": {},
   "outputs": [
    {
     "name": "stdout",
     "output_type": "stream",
     "text": [
      "+--------+---+\n",
      "|    Name|Age|\n",
      "+--------+---+\n",
      "|     Rob| 27|\n",
      "| Michael| 29|\n",
      "|   Mohan| 29|\n",
      "|  Ismail| 28|\n",
      "|    Kory| 42|\n",
      "|  Gautam| 39|\n",
      "|   David| 41|\n",
      "|  Andrea| 38|\n",
      "|    Brad| 36|\n",
      "|Angelina| 35|\n",
      "|  Donald| 37|\n",
      "|     Tom| 26|\n",
      "|  Arnold| 27|\n",
      "|   Jared| 28|\n",
      "|   Stark| 29|\n",
      "|  Ranbir| 32|\n",
      "|  Dipika| 40|\n",
      "|Priyanka| 41|\n",
      "|    Nick| 43|\n",
      "|    Alia| 39|\n",
      "+--------+---+\n",
      "only showing top 20 rows\n",
      "\n"
     ]
    }
   ],
   "source": [
    "dfspark.select(['Name','Age']).show()"
   ]
  },
  {
   "cell_type": "code",
   "execution_count": 19,
   "id": "f5c5d1f9",
   "metadata": {},
   "outputs": [
    {
     "data": {
      "text/plain": [
       "Column<'Name'>"
      ]
     },
     "execution_count": 19,
     "metadata": {},
     "output_type": "execute_result"
    }
   ],
   "source": [
    "dfspark['Name'] # retriving the column name"
   ]
  },
  {
   "cell_type": "code",
   "execution_count": 20,
   "id": "3a926301",
   "metadata": {},
   "outputs": [
    {
     "data": {
      "text/plain": [
       "[('Name', 'string'), ('Age', 'int'), ('Income($)', 'int')]"
      ]
     },
     "execution_count": 20,
     "metadata": {},
     "output_type": "execute_result"
    }
   ],
   "source": [
    "dfspark.dtypes # checking datatype"
   ]
  },
  {
   "cell_type": "code",
   "execution_count": 21,
   "id": "fe2398dd",
   "metadata": {},
   "outputs": [
    {
     "data": {
      "text/plain": [
       "DataFrame[summary: string, Name: string, Age: string, Income($): string]"
      ]
     },
     "execution_count": 21,
     "metadata": {},
     "output_type": "execute_result"
    }
   ],
   "source": [
    "dfspark.describe()"
   ]
  },
  {
   "cell_type": "code",
   "execution_count": 22,
   "id": "ee919d34",
   "metadata": {},
   "outputs": [
    {
     "name": "stdout",
     "output_type": "stream",
     "text": [
      "+-------+-----+-----------------+-----------------+\n",
      "|summary| Name|              Age|        Income($)|\n",
      "+-------+-----+-----------------+-----------------+\n",
      "|  count|   22|               22|               22|\n",
      "|   mean| null|34.81818181818182|90431.81818181818|\n",
      "| stddev| null|5.901060143949628|43505.96441172106|\n",
      "|    min|Abdul|               26|            45000|\n",
      "|    max|  Tom|               43|           162000|\n",
      "+-------+-----+-----------------+-----------------+\n",
      "\n"
     ]
    }
   ],
   "source": [
    "dfspark.describe().show()"
   ]
  },
  {
   "cell_type": "markdown",
   "id": "9c398598",
   "metadata": {},
   "source": [
    "# Adding columns"
   ]
  },
  {
   "cell_type": "code",
   "execution_count": 28,
   "id": "bb9a44dd",
   "metadata": {},
   "outputs": [],
   "source": [
    "dfspark=dfspark.withColumn('Age after 2 years',dfspark['Age']+2)"
   ]
  },
  {
   "cell_type": "code",
   "execution_count": 29,
   "id": "d2ebdaa5",
   "metadata": {},
   "outputs": [
    {
     "data": {
      "text/plain": [
       "DataFrame[Name: string, Age: int, Income($): int, Age after 2 years: int]"
      ]
     },
     "execution_count": 29,
     "metadata": {},
     "output_type": "execute_result"
    }
   ],
   "source": [
    "dfspark"
   ]
  },
  {
   "cell_type": "code",
   "execution_count": 30,
   "id": "6328b8d7",
   "metadata": {},
   "outputs": [
    {
     "name": "stdout",
     "output_type": "stream",
     "text": [
      "+--------+---+---------+-----------------+\n",
      "|    Name|Age|Income($)|Age after 2 years|\n",
      "+--------+---+---------+-----------------+\n",
      "|     Rob| 27|    70000|               29|\n",
      "| Michael| 29|    90000|               31|\n",
      "|   Mohan| 29|    61000|               31|\n",
      "|  Ismail| 28|    60000|               30|\n",
      "|    Kory| 42|   150000|               44|\n",
      "|  Gautam| 39|   155000|               41|\n",
      "|   David| 41|   160000|               43|\n",
      "|  Andrea| 38|   162000|               40|\n",
      "|    Brad| 36|   156000|               38|\n",
      "|Angelina| 35|   130000|               37|\n",
      "|  Donald| 37|   137000|               39|\n",
      "|     Tom| 26|    45000|               28|\n",
      "|  Arnold| 27|    48000|               29|\n",
      "|   Jared| 28|    51000|               30|\n",
      "|   Stark| 29|    49500|               31|\n",
      "|  Ranbir| 32|    53000|               34|\n",
      "|  Dipika| 40|    65000|               42|\n",
      "|Priyanka| 41|    63000|               43|\n",
      "|    Nick| 43|    64000|               45|\n",
      "|    Alia| 39|    80000|               41|\n",
      "+--------+---+---------+-----------------+\n",
      "only showing top 20 rows\n",
      "\n"
     ]
    }
   ],
   "source": [
    "dfspark.show()"
   ]
  },
  {
   "cell_type": "markdown",
   "id": "f73984b8",
   "metadata": {},
   "source": [
    "# Dropping the columns"
   ]
  },
  {
   "cell_type": "code",
   "execution_count": 31,
   "id": "13ffed6b",
   "metadata": {},
   "outputs": [],
   "source": [
    "dfspark=dfspark.drop('Age after 2 years')"
   ]
  },
  {
   "cell_type": "code",
   "execution_count": 32,
   "id": "4fc56d8f",
   "metadata": {},
   "outputs": [
    {
     "name": "stdout",
     "output_type": "stream",
     "text": [
      "+--------+---+---------+\n",
      "|    Name|Age|Income($)|\n",
      "+--------+---+---------+\n",
      "|     Rob| 27|    70000|\n",
      "| Michael| 29|    90000|\n",
      "|   Mohan| 29|    61000|\n",
      "|  Ismail| 28|    60000|\n",
      "|    Kory| 42|   150000|\n",
      "|  Gautam| 39|   155000|\n",
      "|   David| 41|   160000|\n",
      "|  Andrea| 38|   162000|\n",
      "|    Brad| 36|   156000|\n",
      "|Angelina| 35|   130000|\n",
      "|  Donald| 37|   137000|\n",
      "|     Tom| 26|    45000|\n",
      "|  Arnold| 27|    48000|\n",
      "|   Jared| 28|    51000|\n",
      "|   Stark| 29|    49500|\n",
      "|  Ranbir| 32|    53000|\n",
      "|  Dipika| 40|    65000|\n",
      "|Priyanka| 41|    63000|\n",
      "|    Nick| 43|    64000|\n",
      "|    Alia| 39|    80000|\n",
      "+--------+---+---------+\n",
      "only showing top 20 rows\n",
      "\n"
     ]
    }
   ],
   "source": [
    "dfspark.show()"
   ]
  },
  {
   "cell_type": "markdown",
   "id": "2c9d0338",
   "metadata": {},
   "source": [
    "# Renaming the columns"
   ]
  },
  {
   "cell_type": "code",
   "execution_count": 33,
   "id": "3f14e3cb",
   "metadata": {},
   "outputs": [],
   "source": [
    "dfspark=dfspark.withColumnRenamed('Age','New Age')"
   ]
  },
  {
   "cell_type": "code",
   "execution_count": 34,
   "id": "3cae744c",
   "metadata": {},
   "outputs": [
    {
     "name": "stdout",
     "output_type": "stream",
     "text": [
      "+--------+-------+---------+\n",
      "|    Name|New Age|Income($)|\n",
      "+--------+-------+---------+\n",
      "|     Rob|     27|    70000|\n",
      "| Michael|     29|    90000|\n",
      "|   Mohan|     29|    61000|\n",
      "|  Ismail|     28|    60000|\n",
      "|    Kory|     42|   150000|\n",
      "|  Gautam|     39|   155000|\n",
      "|   David|     41|   160000|\n",
      "|  Andrea|     38|   162000|\n",
      "|    Brad|     36|   156000|\n",
      "|Angelina|     35|   130000|\n",
      "|  Donald|     37|   137000|\n",
      "|     Tom|     26|    45000|\n",
      "|  Arnold|     27|    48000|\n",
      "|   Jared|     28|    51000|\n",
      "|   Stark|     29|    49500|\n",
      "|  Ranbir|     32|    53000|\n",
      "|  Dipika|     40|    65000|\n",
      "|Priyanka|     41|    63000|\n",
      "|    Nick|     43|    64000|\n",
      "|    Alia|     39|    80000|\n",
      "+--------+-------+---------+\n",
      "only showing top 20 rows\n",
      "\n"
     ]
    }
   ],
   "source": [
    "dfspark.show()"
   ]
  },
  {
   "cell_type": "code",
   "execution_count": null,
   "id": "c7b34b50",
   "metadata": {},
   "outputs": [],
   "source": []
  },
  {
   "cell_type": "code",
   "execution_count": null,
   "id": "58086a24",
   "metadata": {},
   "outputs": [],
   "source": []
  }
 ],
 "metadata": {
  "kernelspec": {
   "display_name": "Python 3 (ipykernel)",
   "language": "python",
   "name": "python3"
  },
  "language_info": {
   "codemirror_mode": {
    "name": "ipython",
    "version": 3
   },
   "file_extension": ".py",
   "mimetype": "text/x-python",
   "name": "python",
   "nbconvert_exporter": "python",
   "pygments_lexer": "ipython3",
   "version": "3.9.7"
  }
 },
 "nbformat": 4,
 "nbformat_minor": 5
}
