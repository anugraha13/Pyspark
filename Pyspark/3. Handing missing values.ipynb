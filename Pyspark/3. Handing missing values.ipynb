{
 "cells": [
  {
   "cell_type": "markdown",
   "id": "b2619b14",
   "metadata": {},
   "source": [
    "# pyspark session"
   ]
  },
  {
   "cell_type": "code",
   "execution_count": 1,
   "id": "aa5b6cb4",
   "metadata": {},
   "outputs": [],
   "source": [
    "import pyspark"
   ]
  },
  {
   "cell_type": "code",
   "execution_count": 4,
   "id": "cbe45bea",
   "metadata": {},
   "outputs": [],
   "source": [
    "from pyspark.sql import SparkSession\n"
   ]
  },
  {
   "cell_type": "code",
   "execution_count": 6,
   "id": "9378eb82",
   "metadata": {},
   "outputs": [],
   "source": [
    "spark=SparkSession.builder.appName('Practise').getOrCreate()"
   ]
  },
  {
   "cell_type": "code",
   "execution_count": 9,
   "id": "454350e4",
   "metadata": {},
   "outputs": [],
   "source": [
    "df_spark=spark.read.csv('income1.csv',header=True,inferSchema=True)"
   ]
  },
  {
   "cell_type": "code",
   "execution_count": 10,
   "id": "d8433e0c",
   "metadata": {},
   "outputs": [
    {
     "name": "stdout",
     "output_type": "stream",
     "text": [
      "+--------+----+----------+---------+\n",
      "|    Name| Age|Experience|Income($)|\n",
      "+--------+----+----------+---------+\n",
      "|     Rob|  27|         1|    70000|\n",
      "| Michael|  29|         2|    90000|\n",
      "|   Mohan|  29|         3|    61000|\n",
      "|  Ismail|  28|        10|    60000|\n",
      "|    Kory|  42|         1|   150000|\n",
      "|  Gautam|  39|         1|   155000|\n",
      "|   David|  41|         1|   160000|\n",
      "|  Andrea|  38|         1|   162000|\n",
      "|    Brad|  36|        11|   156000|\n",
      "|Angelina|  35|         1|   130000|\n",
      "|  Donald|  37|        19|   137000|\n",
      "|     Tom|  26|         1|    45000|\n",
      "|  Arnold|  27|         1|    48000|\n",
      "|   Jared|  28|         1|    51000|\n",
      "|   Stark|null|      null|    49500|\n",
      "|  Ranbir|  32|         1|    53000|\n",
      "|  Dipika|  40|         1|    65000|\n",
      "|    null|  41|         1|    63000|\n",
      "|    Nick|  43|         1|    64000|\n",
      "|    Alia|  39|         1|    80000|\n",
      "+--------+----+----------+---------+\n",
      "only showing top 20 rows\n",
      "\n"
     ]
    }
   ],
   "source": [
    "df_spark.show()"
   ]
  },
  {
   "cell_type": "markdown",
   "id": "841314a1",
   "metadata": {},
   "source": [
    "# Dropping columns"
   ]
  },
  {
   "cell_type": "code",
   "execution_count": 11,
   "id": "13b958c8",
   "metadata": {},
   "outputs": [
    {
     "name": "stdout",
     "output_type": "stream",
     "text": [
      "+----+----------+---------+\n",
      "| Age|Experience|Income($)|\n",
      "+----+----------+---------+\n",
      "|  27|         1|    70000|\n",
      "|  29|         2|    90000|\n",
      "|  29|         3|    61000|\n",
      "|  28|        10|    60000|\n",
      "|  42|         1|   150000|\n",
      "|  39|         1|   155000|\n",
      "|  41|         1|   160000|\n",
      "|  38|         1|   162000|\n",
      "|  36|        11|   156000|\n",
      "|  35|         1|   130000|\n",
      "|  37|        19|   137000|\n",
      "|  26|         1|    45000|\n",
      "|  27|         1|    48000|\n",
      "|  28|         1|    51000|\n",
      "|null|      null|    49500|\n",
      "|  32|         1|    53000|\n",
      "|  40|         1|    65000|\n",
      "|  41|         1|    63000|\n",
      "|  43|         1|    64000|\n",
      "|  39|         1|    80000|\n",
      "+----+----------+---------+\n",
      "only showing top 20 rows\n",
      "\n"
     ]
    }
   ],
   "source": [
    "df_spark.drop('Name').show()"
   ]
  },
  {
   "cell_type": "code",
   "execution_count": 12,
   "id": "dcf53e74",
   "metadata": {},
   "outputs": [
    {
     "name": "stdout",
     "output_type": "stream",
     "text": [
      "+--------+----+----------+---------+\n",
      "|    Name| Age|Experience|Income($)|\n",
      "+--------+----+----------+---------+\n",
      "|     Rob|  27|         1|    70000|\n",
      "| Michael|  29|         2|    90000|\n",
      "|   Mohan|  29|         3|    61000|\n",
      "|  Ismail|  28|        10|    60000|\n",
      "|    Kory|  42|         1|   150000|\n",
      "|  Gautam|  39|         1|   155000|\n",
      "|   David|  41|         1|   160000|\n",
      "|  Andrea|  38|         1|   162000|\n",
      "|    Brad|  36|        11|   156000|\n",
      "|Angelina|  35|         1|   130000|\n",
      "|  Donald|  37|        19|   137000|\n",
      "|     Tom|  26|         1|    45000|\n",
      "|  Arnold|  27|         1|    48000|\n",
      "|   Jared|  28|         1|    51000|\n",
      "|   Stark|null|      null|    49500|\n",
      "|  Ranbir|  32|         1|    53000|\n",
      "|  Dipika|  40|         1|    65000|\n",
      "|    null|  41|         1|    63000|\n",
      "|    Nick|  43|         1|    64000|\n",
      "|    Alia|  39|         1|    80000|\n",
      "+--------+----+----------+---------+\n",
      "only showing top 20 rows\n",
      "\n"
     ]
    }
   ],
   "source": [
    "df_spark.show()"
   ]
  },
  {
   "cell_type": "code",
   "execution_count": 14,
   "id": "54aa92c3",
   "metadata": {},
   "outputs": [
    {
     "name": "stdout",
     "output_type": "stream",
     "text": [
      "+--------+---+----------+---------+\n",
      "|    Name|Age|Experience|Income($)|\n",
      "+--------+---+----------+---------+\n",
      "|     Rob| 27|         1|    70000|\n",
      "| Michael| 29|         2|    90000|\n",
      "|   Mohan| 29|         3|    61000|\n",
      "|  Ismail| 28|        10|    60000|\n",
      "|    Kory| 42|         1|   150000|\n",
      "|  Gautam| 39|         1|   155000|\n",
      "|   David| 41|         1|   160000|\n",
      "|  Andrea| 38|         1|   162000|\n",
      "|    Brad| 36|        11|   156000|\n",
      "|Angelina| 35|         1|   130000|\n",
      "|  Donald| 37|        19|   137000|\n",
      "|     Tom| 26|         1|    45000|\n",
      "|  Arnold| 27|         1|    48000|\n",
      "|   Jared| 28|         1|    51000|\n",
      "|  Ranbir| 32|         1|    53000|\n",
      "|  Dipika| 40|         1|    65000|\n",
      "|    Nick| 43|         1|    64000|\n",
      "|    Alia| 39|         1|    80000|\n",
      "|   Abdul| 39|         1|    58000|\n",
      "+--------+---+----------+---------+\n",
      "\n"
     ]
    }
   ],
   "source": [
    "df_spark.na.drop().show() # wherever null values, that rows are removed"
   ]
  },
  {
   "cell_type": "code",
   "execution_count": 17,
   "id": "3b6f56da",
   "metadata": {},
   "outputs": [
    {
     "name": "stdout",
     "output_type": "stream",
     "text": [
      "+--------+---+----------+---------+\n",
      "|    Name|Age|Experience|Income($)|\n",
      "+--------+---+----------+---------+\n",
      "|     Rob| 27|         1|    70000|\n",
      "| Michael| 29|         2|    90000|\n",
      "|   Mohan| 29|         3|    61000|\n",
      "|  Ismail| 28|        10|    60000|\n",
      "|    Kory| 42|         1|   150000|\n",
      "|  Gautam| 39|         1|   155000|\n",
      "|   David| 41|         1|   160000|\n",
      "|  Andrea| 38|         1|   162000|\n",
      "|    Brad| 36|        11|   156000|\n",
      "|Angelina| 35|         1|   130000|\n",
      "|  Donald| 37|        19|   137000|\n",
      "|     Tom| 26|         1|    45000|\n",
      "|  Arnold| 27|         1|    48000|\n",
      "|   Jared| 28|         1|    51000|\n",
      "|  Ranbir| 32|         1|    53000|\n",
      "|  Dipika| 40|         1|    65000|\n",
      "|    Nick| 43|         1|    64000|\n",
      "|    Alia| 39|         1|    80000|\n",
      "|   Abdul| 39|         1|    58000|\n",
      "+--------+---+----------+---------+\n",
      "\n"
     ]
    }
   ],
   "source": [
    "df_spark.na.drop(how='any').show() #how=null,any"
   ]
  },
  {
   "cell_type": "code",
   "execution_count": 18,
   "id": "346fd3bc",
   "metadata": {},
   "outputs": [
    {
     "name": "stdout",
     "output_type": "stream",
     "text": [
      "+--------+----+----------+---------+\n",
      "|    Name| Age|Experience|Income($)|\n",
      "+--------+----+----------+---------+\n",
      "|     Rob|  27|         1|    70000|\n",
      "| Michael|  29|         2|    90000|\n",
      "|   Mohan|  29|         3|    61000|\n",
      "|  Ismail|  28|        10|    60000|\n",
      "|    Kory|  42|         1|   150000|\n",
      "|  Gautam|  39|         1|   155000|\n",
      "|   David|  41|         1|   160000|\n",
      "|  Andrea|  38|         1|   162000|\n",
      "|    Brad|  36|        11|   156000|\n",
      "|Angelina|  35|         1|   130000|\n",
      "|  Donald|  37|        19|   137000|\n",
      "|     Tom|  26|         1|    45000|\n",
      "|  Arnold|  27|         1|    48000|\n",
      "|   Jared|  28|         1|    51000|\n",
      "|   Stark|null|      null|    49500|\n",
      "|  Ranbir|  32|         1|    53000|\n",
      "|  Dipika|  40|         1|    65000|\n",
      "|    null|  41|         1|    63000|\n",
      "|    Nick|  43|         1|    64000|\n",
      "|    Alia|  39|         1|    80000|\n",
      "+--------+----+----------+---------+\n",
      "only showing top 20 rows\n",
      "\n"
     ]
    }
   ],
   "source": [
    "df_spark.na.drop(how='any',thresh=2).show() #drop the rows if the null values greater than 2"
   ]
  },
  {
   "cell_type": "code",
   "execution_count": 20,
   "id": "9f5880a7",
   "metadata": {},
   "outputs": [
    {
     "name": "stdout",
     "output_type": "stream",
     "text": [
      "+--------+----+----------+---------+\n",
      "|    Name| Age|Experience|Income($)|\n",
      "+--------+----+----------+---------+\n",
      "|     Rob|  27|         1|    70000|\n",
      "| Michael|  29|         2|    90000|\n",
      "|   Mohan|  29|         3|    61000|\n",
      "|  Ismail|  28|        10|    60000|\n",
      "|    Kory|  42|         1|   150000|\n",
      "|  Gautam|  39|         1|   155000|\n",
      "|   David|  41|         1|   160000|\n",
      "|  Andrea|  38|         1|   162000|\n",
      "|    Brad|  36|        11|   156000|\n",
      "|Angelina|  35|         1|   130000|\n",
      "|  Donald|  37|        19|   137000|\n",
      "|     Tom|  26|         1|    45000|\n",
      "|  Arnold|  27|         1|    48000|\n",
      "|   Jared|  28|         1|    51000|\n",
      "|   Stark|null|      null|    49500|\n",
      "|  Ranbir|  32|         1|    53000|\n",
      "|  Dipika|  40|         1|    65000|\n",
      "|    null|  41|         1|    63000|\n",
      "|    Nick|  43|         1|    64000|\n",
      "|    Alia|  39|         1|    80000|\n",
      "+--------+----+----------+---------+\n",
      "only showing top 20 rows\n",
      "\n"
     ]
    }
   ],
   "source": [
    "df_spark.na.drop(how='any',thresh=1).show()"
   ]
  },
  {
   "cell_type": "code",
   "execution_count": 21,
   "id": "fdcd0380",
   "metadata": {},
   "outputs": [
    {
     "name": "stdout",
     "output_type": "stream",
     "text": [
      "+--------+---+----------+---------+\n",
      "|    Name|Age|Experience|Income($)|\n",
      "+--------+---+----------+---------+\n",
      "|     Rob| 27|         1|    70000|\n",
      "| Michael| 29|         2|    90000|\n",
      "|   Mohan| 29|         3|    61000|\n",
      "|  Ismail| 28|        10|    60000|\n",
      "|    Kory| 42|         1|   150000|\n",
      "|  Gautam| 39|         1|   155000|\n",
      "|   David| 41|         1|   160000|\n",
      "|  Andrea| 38|         1|   162000|\n",
      "|    Brad| 36|        11|   156000|\n",
      "|Angelina| 35|         1|   130000|\n",
      "|  Donald| 37|        19|   137000|\n",
      "|     Tom| 26|         1|    45000|\n",
      "|  Arnold| 27|         1|    48000|\n",
      "|   Jared| 28|         1|    51000|\n",
      "|  Ranbir| 32|         1|    53000|\n",
      "|  Dipika| 40|         1|    65000|\n",
      "|    null| 41|         1|    63000|\n",
      "|    Nick| 43|         1|    64000|\n",
      "|    Alia| 39|         1|    80000|\n",
      "|   Abdul| 39|         1|    58000|\n",
      "+--------+---+----------+---------+\n",
      "\n"
     ]
    }
   ],
   "source": [
    "df_spark.na.drop(how='any',subset=['Experience']).show() # remove the rows if null values in experience"
   ]
  },
  {
   "cell_type": "code",
   "execution_count": 22,
   "id": "04532788",
   "metadata": {},
   "outputs": [
    {
     "name": "stdout",
     "output_type": "stream",
     "text": [
      "+--------+---+----------+---------+\n",
      "|    Name|Age|Experience|Income($)|\n",
      "+--------+---+----------+---------+\n",
      "|     Rob| 27|         1|    70000|\n",
      "| Michael| 29|         2|    90000|\n",
      "|   Mohan| 29|         3|    61000|\n",
      "|  Ismail| 28|        10|    60000|\n",
      "|    Kory| 42|         1|   150000|\n",
      "|  Gautam| 39|         1|   155000|\n",
      "|   David| 41|         1|   160000|\n",
      "|  Andrea| 38|         1|   162000|\n",
      "|    Brad| 36|        11|   156000|\n",
      "|Angelina| 35|         1|   130000|\n",
      "|  Donald| 37|        19|   137000|\n",
      "|     Tom| 26|         1|    45000|\n",
      "|  Arnold| 27|         1|    48000|\n",
      "|   Jared| 28|         1|    51000|\n",
      "|  Ranbir| 32|         1|    53000|\n",
      "|  Dipika| 40|         1|    65000|\n",
      "|    null| 41|         1|    63000|\n",
      "|    Nick| 43|         1|    64000|\n",
      "|    Alia| 39|         1|    80000|\n",
      "|    null| 41|      null|     null|\n",
      "+--------+---+----------+---------+\n",
      "only showing top 20 rows\n",
      "\n"
     ]
    }
   ],
   "source": [
    "df_spark.na.drop(how='any',subset=['Age']).show()"
   ]
  },
  {
   "cell_type": "markdown",
   "id": "92b6e272",
   "metadata": {},
   "source": [
    "# Filling Missing values"
   ]
  },
  {
   "cell_type": "code",
   "execution_count": 25,
   "id": "d098b249",
   "metadata": {},
   "outputs": [
    {
     "name": "stdout",
     "output_type": "stream",
     "text": [
      "+--------+----+----------+---------+\n",
      "|    Name| Age|Experience|Income($)|\n",
      "+--------+----+----------+---------+\n",
      "|     Rob|  27|         1|    70000|\n",
      "| Michael|  29|         2|    90000|\n",
      "|   Mohan|  29|         3|    61000|\n",
      "|  Ismail|  28|        10|    60000|\n",
      "|    Kory|  42|         1|   150000|\n",
      "|  Gautam|  39|         1|   155000|\n",
      "|   David|  41|         1|   160000|\n",
      "|  Andrea|  38|         1|   162000|\n",
      "|    Brad|  36|        11|   156000|\n",
      "|Angelina|  35|         1|   130000|\n",
      "|  Donald|  37|        19|   137000|\n",
      "|     Tom|  26|         1|    45000|\n",
      "|  Arnold|  27|         1|    48000|\n",
      "|   Jared|  28|         1|    51000|\n",
      "|   Stark|null|      null|    49500|\n",
      "|  Ranbir|  32|         1|    53000|\n",
      "|  Dipika|  40|         1|    65000|\n",
      "|    null|  41|         1|    63000|\n",
      "|    Nick|  43|         1|    64000|\n",
      "|    Alia|  39|         1|    80000|\n",
      "+--------+----+----------+---------+\n",
      "only showing top 20 rows\n",
      "\n"
     ]
    }
   ],
   "source": [
    "df_spark.na.fill('Missing','Experience').show()"
   ]
  },
  {
   "cell_type": "code",
   "execution_count": 28,
   "id": "2b54eb2c",
   "metadata": {},
   "outputs": [
    {
     "name": "stdout",
     "output_type": "stream",
     "text": [
      "+--------+----+----------+---------+\n",
      "|    Name| Age|Experience|Income($)|\n",
      "+--------+----+----------+---------+\n",
      "|     Rob|  27|         1|    70000|\n",
      "| Michael|  29|         2|    90000|\n",
      "|   Mohan|  29|         3|    61000|\n",
      "|  Ismail|  28|        10|    60000|\n",
      "|    Kory|  42|         1|   150000|\n",
      "|  Gautam|  39|         1|   155000|\n",
      "|   David|  41|         1|   160000|\n",
      "|  Andrea|  38|         1|   162000|\n",
      "|    Brad|  36|        11|   156000|\n",
      "|Angelina|  35|         1|   130000|\n",
      "|  Donald|  37|        19|   137000|\n",
      "|     Tom|  26|         1|    45000|\n",
      "|  Arnold|  27|         1|    48000|\n",
      "|   Jared|  28|         1|    51000|\n",
      "|   Stark|null|      null|    49500|\n",
      "|  Ranbir|  32|         1|    53000|\n",
      "|  Dipika|  40|         1|    65000|\n",
      "|    null|  41|         1|    63000|\n",
      "|    Nick|  43|         1|    64000|\n",
      "|    Alia|  39|         1|    80000|\n",
      "+--------+----+----------+---------+\n",
      "only showing top 20 rows\n",
      "\n"
     ]
    }
   ],
   "source": [
    "df_spark.na.fill('Missing',['Experience','Age']).show()"
   ]
  },
  {
   "cell_type": "code",
   "execution_count": 30,
   "id": "a3cef3e1",
   "metadata": {},
   "outputs": [],
   "source": [
    "# imputer function\n",
    "\n",
    "from pyspark.ml.feature import Imputer\n",
    "imp=Imputer(inputCols=['Age','Experience'],\n",
    "        outputCols=[\"{}_imputed\".format(c) for c in ['Age','Experience']]\n",
    "       ).setStrategy(\"median\")"
   ]
  },
  {
   "cell_type": "code",
   "execution_count": 31,
   "id": "f4d92549",
   "metadata": {},
   "outputs": [
    {
     "name": "stdout",
     "output_type": "stream",
     "text": [
      "+--------+----+----------+---------+-----------+------------------+\n",
      "|    Name| Age|Experience|Income($)|Age_imputed|Experience_imputed|\n",
      "+--------+----+----------+---------+-----------+------------------+\n",
      "|     Rob|  27|         1|    70000|         27|                 1|\n",
      "| Michael|  29|         2|    90000|         29|                 2|\n",
      "|   Mohan|  29|         3|    61000|         29|                 3|\n",
      "|  Ismail|  28|        10|    60000|         28|                10|\n",
      "|    Kory|  42|         1|   150000|         42|                 1|\n",
      "|  Gautam|  39|         1|   155000|         39|                 1|\n",
      "|   David|  41|         1|   160000|         41|                 1|\n",
      "|  Andrea|  38|         1|   162000|         38|                 1|\n",
      "|    Brad|  36|        11|   156000|         36|                11|\n",
      "|Angelina|  35|         1|   130000|         35|                 1|\n",
      "|  Donald|  37|        19|   137000|         37|                19|\n",
      "|     Tom|  26|         1|    45000|         26|                 1|\n",
      "|  Arnold|  27|         1|    48000|         27|                 1|\n",
      "|   Jared|  28|         1|    51000|         28|                 1|\n",
      "|   Stark|null|      null|    49500|         37|                 1|\n",
      "|  Ranbir|  32|         1|    53000|         32|                 1|\n",
      "|  Dipika|  40|         1|    65000|         40|                 1|\n",
      "|    null|  41|         1|    63000|         41|                 1|\n",
      "|    Nick|  43|         1|    64000|         43|                 1|\n",
      "|    Alia|  39|         1|    80000|         39|                 1|\n",
      "+--------+----+----------+---------+-----------+------------------+\n",
      "only showing top 20 rows\n",
      "\n"
     ]
    }
   ],
   "source": [
    "imp.fit(df_spark).transform(df_spark).show()"
   ]
  }
 ],
 "metadata": {
  "kernelspec": {
   "display_name": "Python 3 (ipykernel)",
   "language": "python",
   "name": "python3"
  },
  "language_info": {
   "codemirror_mode": {
    "name": "ipython",
    "version": 3
   },
   "file_extension": ".py",
   "mimetype": "text/x-python",
   "name": "python",
   "nbconvert_exporter": "python",
   "pygments_lexer": "ipython3",
   "version": "3.9.7"
  }
 },
 "nbformat": 4,
 "nbformat_minor": 5
}
