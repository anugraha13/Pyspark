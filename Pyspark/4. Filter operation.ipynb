{
 "cells": [
  {
   "cell_type": "code",
   "execution_count": 1,
   "id": "a815f391",
   "metadata": {},
   "outputs": [],
   "source": [
    "import pyspark"
   ]
  },
  {
   "cell_type": "code",
   "execution_count": 2,
   "id": "f6c31573",
   "metadata": {},
   "outputs": [],
   "source": [
    "from pyspark.sql import SparkSession"
   ]
  },
  {
   "cell_type": "code",
   "execution_count": 3,
   "id": "8c978d1b",
   "metadata": {},
   "outputs": [],
   "source": [
    "spark=SparkSession.builder.appName('practise').getOrCreate()"
   ]
  },
  {
   "cell_type": "code",
   "execution_count": 8,
   "id": "a03234e0",
   "metadata": {},
   "outputs": [],
   "source": [
    "dfspark=spark.read.csv('income.csv',header=True,inferSchema=True)"
   ]
  },
  {
   "cell_type": "code",
   "execution_count": 9,
   "id": "1cf2cb5c",
   "metadata": {},
   "outputs": [
    {
     "name": "stdout",
     "output_type": "stream",
     "text": [
      "+--------+---+------+\n",
      "|    Name|Age|Salary|\n",
      "+--------+---+------+\n",
      "|     Rob| 27| 70000|\n",
      "| Michael| 29| 90000|\n",
      "|   Mohan| 29| 61000|\n",
      "|  Ismail| 28| 60000|\n",
      "|    Kory| 42|150000|\n",
      "|  Gautam| 39|155000|\n",
      "|   David| 41|160000|\n",
      "|  Andrea| 38|162000|\n",
      "|    Brad| 36|156000|\n",
      "|Angelina| 35|130000|\n",
      "|  Donald| 37|137000|\n",
      "|     Tom| 26| 45000|\n",
      "|  Arnold| 27| 48000|\n",
      "|   Jared| 28| 51000|\n",
      "|   Stark| 29| 49500|\n",
      "|  Ranbir| 32| 53000|\n",
      "|  Dipika| 40| 65000|\n",
      "|Priyanka| 41| 63000|\n",
      "|    Nick| 43| 64000|\n",
      "|    Alia| 39| 80000|\n",
      "+--------+---+------+\n",
      "only showing top 20 rows\n",
      "\n"
     ]
    }
   ],
   "source": [
    "dfspark.show()"
   ]
  },
  {
   "cell_type": "code",
   "execution_count": null,
   "id": "4f515e37",
   "metadata": {},
   "outputs": [],
   "source": [
    "# salary <=600000"
   ]
  },
  {
   "cell_type": "code",
   "execution_count": 10,
   "id": "d8895e46",
   "metadata": {},
   "outputs": [
    {
     "name": "stdout",
     "output_type": "stream",
     "text": [
      "+------+---+------+\n",
      "|  Name|Age|Salary|\n",
      "+------+---+------+\n",
      "|Ismail| 28| 60000|\n",
      "|   Tom| 26| 45000|\n",
      "|Arnold| 27| 48000|\n",
      "| Jared| 28| 51000|\n",
      "| Stark| 29| 49500|\n",
      "|Ranbir| 32| 53000|\n",
      "| Abdul| 39| 58000|\n",
      "+------+---+------+\n",
      "\n"
     ]
    }
   ],
   "source": [
    "dfspark.filter(\"Salary<=60000\").show()"
   ]
  },
  {
   "cell_type": "code",
   "execution_count": 11,
   "id": "bc96bad9",
   "metadata": {},
   "outputs": [
    {
     "name": "stdout",
     "output_type": "stream",
     "text": [
      "+------+---+\n",
      "|  Name|Age|\n",
      "+------+---+\n",
      "|Ismail| 28|\n",
      "|   Tom| 26|\n",
      "|Arnold| 27|\n",
      "| Jared| 28|\n",
      "| Stark| 29|\n",
      "|Ranbir| 32|\n",
      "| Abdul| 39|\n",
      "+------+---+\n",
      "\n"
     ]
    }
   ],
   "source": [
    "dfspark.filter(\"Salary<=60000\").select(['Name','Age']).show()"
   ]
  },
  {
   "cell_type": "code",
   "execution_count": 12,
   "id": "eb8fc543",
   "metadata": {},
   "outputs": [
    {
     "name": "stdout",
     "output_type": "stream",
     "text": [
      "+------+---+------+\n",
      "|  Name|Age|Salary|\n",
      "+------+---+------+\n",
      "|Ismail| 28| 60000|\n",
      "|   Tom| 26| 45000|\n",
      "|Arnold| 27| 48000|\n",
      "| Jared| 28| 51000|\n",
      "| Stark| 29| 49500|\n",
      "|Ranbir| 32| 53000|\n",
      "| Abdul| 39| 58000|\n",
      "+------+---+------+\n",
      "\n"
     ]
    }
   ],
   "source": [
    "dfspark.filter(dfspark['Salary']<=60000).show()"
   ]
  },
  {
   "cell_type": "code",
   "execution_count": 15,
   "id": "a695585c",
   "metadata": {},
   "outputs": [
    {
     "name": "stdout",
     "output_type": "stream",
     "text": [
      "+------+---+------+\n",
      "|  Name|Age|Salary|\n",
      "+------+---+------+\n",
      "|   Tom| 26| 45000|\n",
      "|Arnold| 27| 48000|\n",
      "| Jared| 28| 51000|\n",
      "| Stark| 29| 49500|\n",
      "|Ranbir| 32| 53000|\n",
      "| Abdul| 39| 58000|\n",
      "+------+---+------+\n",
      "\n"
     ]
    }
   ],
   "source": [
    "dfspark.filter((dfspark['Salary']<60000)&(dfspark['Salary']>40000)).show()"
   ]
  },
  {
   "cell_type": "code",
   "execution_count": 17,
   "id": "ec32c72e",
   "metadata": {},
   "outputs": [
    {
     "name": "stdout",
     "output_type": "stream",
     "text": [
      "+--------+---+------+\n",
      "|    Name|Age|Salary|\n",
      "+--------+---+------+\n",
      "|     Rob| 27| 70000|\n",
      "| Michael| 29| 90000|\n",
      "|   Mohan| 29| 61000|\n",
      "|    Kory| 42|150000|\n",
      "|  Gautam| 39|155000|\n",
      "|   David| 41|160000|\n",
      "|  Andrea| 38|162000|\n",
      "|    Brad| 36|156000|\n",
      "|Angelina| 35|130000|\n",
      "|  Donald| 37|137000|\n",
      "|  Dipika| 40| 65000|\n",
      "|Priyanka| 41| 63000|\n",
      "|    Nick| 43| 64000|\n",
      "|    Alia| 39| 80000|\n",
      "|     Sid| 41| 82000|\n",
      "+--------+---+------+\n",
      "\n"
     ]
    }
   ],
   "source": [
    "dfspark.filter(~(dfspark['Salary']<=60000)).show() # greater than 60000 (inverse operator)"
   ]
  }
 ],
 "metadata": {
  "kernelspec": {
   "display_name": "Python 3 (ipykernel)",
   "language": "python",
   "name": "python3"
  },
  "language_info": {
   "codemirror_mode": {
    "name": "ipython",
    "version": 3
   },
   "file_extension": ".py",
   "mimetype": "text/x-python",
   "name": "python",
   "nbconvert_exporter": "python",
   "pygments_lexer": "ipython3",
   "version": "3.9.7"
  }
 },
 "nbformat": 4,
 "nbformat_minor": 5
}
